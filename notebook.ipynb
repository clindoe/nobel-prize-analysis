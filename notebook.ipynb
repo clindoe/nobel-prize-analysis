{
 "cells": [
  {
   "cell_type": "markdown",
   "id": "db5bd2ce-918a-4f7d-a927-a3ea74c4b456",
   "metadata": {},
   "source": [
    "The Nobel Prize has been among the most prestigious international awards since 1901. Each year, awards are bestowed in chemistry, literature, physics, physiology or medicine, economics, and peace. In addition to the honor, prestige, and substantial prize money, the recipient also gets a gold medal with an image of Alfred Nobel (1833 - 1896), who established the prize.\n",
    "\n",
    "![](Nobel_Prize.png)\n",
    "\n",
    "The Nobel Foundation has made a dataset available of all prize winners from the outset of the awards from 1901 to 2023. The dataset used in this project is from the Nobel Prize API and is available in the `nobel.csv` file in the `data` folder.\n",
    "\n",
    "In this project, you'll get a chance to explore and answer several questions related to this prizewinning data. And we encourage you then to explore further questions that you're interested in!"
   ]
  },
  {
   "cell_type": "code",
   "execution_count": 1,
   "id": "11fd5946-7bd1-495c-aa7f-ff6e7e4a350b",
   "metadata": {
    "executionCancelledAt": null,
    "executionTime": 52,
    "lastExecutedAt": 1748840778606,
    "lastExecutedByKernel": "2f2bf9d2-d6e4-406e-a680-d050e79bfc76",
    "lastScheduledRunId": null,
    "lastSuccessfullyExecutedCode": "# Nobel Prize Data Analysis Project\n\n# -------------------------------\n# Loading required libraries\n# -------------------------------\nimport pandas as pd\nimport seaborn as sns\nimport numpy as np\n\n# -------------------------------\n# Load the dataset\n# -------------------------------\ndf = pd.read_csv('data/nobel.csv')\n\n# -------------------------------\n# Basic Exploration\n# -------------------------------\nprint(df.head(10))\n\n# -------------------------------\n# Most common gender and birth country\n# -------------------------------\ntop_gender = df['sex'].value_counts().idxmax()\ntop_country = df['birth_country'].value_counts().idxmax()\n\n# -------------------------------\n# Create decade column\n# -------------------------------\ndf['decade'] = (df['year'] // 10) * 10\n\n# -------------------------------\n# Decade with highest ratio of US-born winners\n# -------------------------------\nusa_mask = df['birth_country'] == 'United States of America'\ntotal_by_decade = df.groupby('decade').size()\nusa_by_decade = df[usa_mask].groupby('decade').size()\nratio_by_decade = usa_by_decade / total_by_decade\nmax_decade_usa = int(ratio_by_decade.idxmax())\n\n# -------------------------------\n# Decade-category combo with highest female winner proportion\n# -------------------------------\ntotal = df.groupby(['decade', 'category']).size()\nfemales = df[df['sex'] == 'Female'].groupby(['decade', 'category']).size()\nfemale_ratio = females / total\nmax_combination = female_ratio.idxmax()\nmax_female_dict = {max_combination[0]: max_combination[1]}\n\n# -------------------------------\n# First woman to receive Nobel Prize\n# -------------------------------\nfemale_laureates = df[df['sex'] == 'Female']\nfemale_laureates_sorted = female_laureates.sort_values('year')\nfirst_woman_name = female_laureates_sorted.iloc[0]['full_name']\nfirst_woman_category = female_laureates_sorted.iloc[0]['category']\n\n# -------------------------------\n# Repeat winners (individuals or organizations)\n# -------------------------------\nrepeat_counts = df['full_name'].value_counts()\nrepeat_list = repeat_counts[repeat_counts > 1].index.tolist()\n\n# -------------------------------\n# Output summary\n# -------------------------------\nprint(\"Most common gender:\", top_gender)\nprint(\"Most common birth country:\", top_country)\nprint(\"Decade with highest US-born winner ratio:\", max_decade_usa)\nprint(\"Decade-category combo with highest female ratio:\", max_female_dict)\nprint(\"First woman Nobel laureate:\", first_woman_name)\nprint(\"Category of first woman laureate:\", first_woman_category)\nprint(\"Repeat winners:\", repeat_list)\n\n",
    "outputsMetadata": {
     "0": {
      "height": 38,
      "type": "stream"
     }
    }
   },
   "outputs": [
    {
     "name": "stdout",
     "output_type": "stream",
     "text": [
      "Most common gender: Male\n",
      "Most common birth country: United States of America\n",
      "Decade with highest US-born winner ratio: 2000\n",
      "Decade-category combo with highest female ratio: {np.int64(2020): 'Literature'}\n",
      "First woman Nobel laureate: Marie Curie, née Sklodowska\n",
      "Category of first woman laureate: Physics\n",
      "Repeat winners: ['Comité international de la Croix Rouge (International Committee of the Red Cross)', 'Linus Carl Pauling', 'John Bardeen', 'Frederick Sanger', 'Marie Curie, née Sklodowska', 'Office of the United Nations High Commissioner for Refugees (UNHCR)']\n"
     ]
    },
    {
     "name": "stderr",
     "output_type": "stream",
     "text": [
      "/var/folders/z6/y3mcmsd500s17gqzyb9zkvhh0000gn/T/ipykernel_17650/1369333862.py:108: UserWarning: Tight layout not applied. The bottom and top margins cannot be made large enough to accommodate all Axes decorations.\n",
      "  plt.tight_layout()\n"
     ]
    },
    {
     "data": {
      "text/plain": [
       "<Figure size 640x480 with 0 Axes>"
      ]
     },
     "metadata": {},
     "output_type": "display_data"
    }
   ],
   "source": [
    "# Nobel Prize Data Analysis Project\n",
    "\n",
    "# -------------------------------\n",
    "# Loading required libraries\n",
    "# -------------------------------\n",
    "import pandas as pd\n",
    "import seaborn as sns\n",
    "import numpy as np\n",
    "import matplotlib.pyplot as plt\n",
    "\n",
    "# -------------------------------\n",
    "# Load the dataset\n",
    "# -------------------------------\n",
    "df = pd.read_csv('data/nobel.csv')\n",
    "\n",
    "# -------------------------------\n",
    "# Create decade column\n",
    "# -------------------------------\n",
    "df['decade'] = (df['year'] // 10) * 10\n",
    "\n",
    "# -------------------------------\n",
    "# Most common gender and birth country\n",
    "# -------------------------------\n",
    "top_gender = df['sex'].value_counts().idxmax()\n",
    "top_country = df['birth_country'].value_counts().idxmax()\n",
    "\n",
    "# -------------------------------\n",
    "# Decade with highest ratio of US-born winners\n",
    "# -------------------------------\n",
    "usa_mask = df['birth_country'] == 'United States of America'\n",
    "total_by_decade = df.groupby('decade').size()\n",
    "usa_by_decade = df[usa_mask].groupby('decade').size()\n",
    "ratio_by_decade = usa_by_decade / total_by_decade\n",
    "max_decade_usa = int(ratio_by_decade.idxmax())\n",
    "\n",
    "# -------------------------------\n",
    "# Decade-category combo with highest female winner proportion\n",
    "# -------------------------------\n",
    "total = df.groupby(['decade', 'category']).size()\n",
    "females = df[df['sex'] == 'Female'].groupby(['decade', 'category']).size()\n",
    "female_ratio = females / total\n",
    "max_combination = female_ratio.idxmax()\n",
    "max_female_dict = {max_combination[0]: max_combination[1]}\n",
    "\n",
    "# -------------------------------\n",
    "# First woman to receive Nobel Prize\n",
    "# -------------------------------\n",
    "female_laureates = df[df['sex'] == 'Female']\n",
    "female_laureates_sorted = female_laureates.sort_values('year')\n",
    "first_woman_name = female_laureates_sorted.iloc[0]['full_name']\n",
    "first_woman_category = female_laureates_sorted.iloc[0]['category']\n",
    "\n",
    "# -------------------------------\n",
    "# Repeat winners\n",
    "# -------------------------------\n",
    "repeat_counts = df['full_name'].value_counts()\n",
    "repeat_list = repeat_counts[repeat_counts > 1].index.tolist()\n",
    "\n",
    "# -------------------------------\n",
    "# VISUALIZATIONS\n",
    "# -------------------------------\n",
    "sns.set(style=\"whitegrid\")\n",
    "\n",
    "# 1. Female laureates by decade\n",
    "female_trend = df[df['sex'] == 'Female'].groupby('decade').size().reset_index(name='count')\n",
    "sns.lineplot(data=female_trend, x='decade', y='count', marker='o')\n",
    "plt.title('Female Nobel Laureates by Decade')\n",
    "plt.ylabel('Number of Female Winners')\n",
    "plt.xlabel('Decade')\n",
    "plt.xticks(rotation=45)\n",
    "plt.tight_layout()\n",
    "plt.savefig('Female_Laureates_By_Decade.png')\n",
    "plt.clf()\n",
    "\n",
    "# 2. Laureates by category and gender\n",
    "sns.countplot(data=df, x='category', hue='sex')\n",
    "plt.title('Nobel Laureates by Category and Gender')\n",
    "plt.xticks(rotation=45)\n",
    "plt.tight_layout()\n",
    "plt.savefig('Category_vs_Gender.png')\n",
    "plt.clf()\n",
    "\n",
    "# 3. Top 10 countries by Nobel laureates\n",
    "top_countries = df['birth_country'].value_counts().head(10)\n",
    "sns.barplot(x=top_countries.values, y=top_countries.index)\n",
    "plt.title('Top 10 Countries by Nobel Laureates')\n",
    "plt.xlabel('Number of Laureates')\n",
    "plt.tight_layout()\n",
    "plt.savefig('Top10_Countries.png')\n",
    "plt.clf()\n",
    "\n",
    "# 4. Prizes by category over time\n",
    "prize_timeline = df.groupby(['decade', 'category']).size().reset_index(name='count')\n",
    "sns.lineplot(data=prize_timeline, x='decade', y='count', hue='category', marker='o')\n",
    "plt.title('Nobel Prizes by Category Over Time')\n",
    "plt.ylabel('Number of Prizes')\n",
    "plt.xlabel('Decade')\n",
    "plt.xticks(rotation=45)\n",
    "plt.tight_layout()\n",
    "plt.savefig('Category_Over_Time.png')\n",
    "plt.clf()\n",
    "\n",
    "# 5. Repeat winners plot\n",
    "repeat_df = df[df['full_name'].isin(repeat_list)]\n",
    "sns.stripplot(data=repeat_df, x='full_name', y='year', hue='category', dodge=True)\n",
    "plt.title('Individuals with Multiple Nobel Prizes')\n",
    "plt.xticks(rotation=45)\n",
    "plt.tight_layout()\n",
    "plt.savefig('Repeat_Winners.png')\n",
    "plt.clf()\n",
    "\n",
    "# -------------------------------\n",
    "# OUTPUT SUMMARY\n",
    "# -------------------------------\n",
    "print(\"Most common gender:\", top_gender)\n",
    "print(\"Most common birth country:\", top_country)\n",
    "print(\"Decade with highest US-born winner ratio:\", max_decade_usa)\n",
    "print(\"Decade-category combo with highest female ratio:\", max_female_dict)\n",
    "print(\"First woman Nobel laureate:\", first_woman_name)\n",
    "print(\"Category of first woman laureate:\", first_woman_category)\n",
    "print(\"Repeat winners:\", repeat_list)\n",
    "\n",
    "\n"
   ]
  },
  {
   "cell_type": "code",
   "execution_count": null,
   "id": "9107e396",
   "metadata": {},
   "outputs": [],
   "source": []
  }
 ],
 "metadata": {
  "editor": "DataCamp Workspace",
  "kernelspec": {
   "display_name": "Python 3",
   "language": "python",
   "name": "python3"
  },
  "language_info": {
   "codemirror_mode": {
    "name": "ipython",
    "version": 3
   },
   "file_extension": ".py",
   "mimetype": "text/x-python",
   "name": "python",
   "nbconvert_exporter": "python",
   "pygments_lexer": "ipython3",
   "version": "3.13.0"
  }
 },
 "nbformat": 4,
 "nbformat_minor": 5
}
